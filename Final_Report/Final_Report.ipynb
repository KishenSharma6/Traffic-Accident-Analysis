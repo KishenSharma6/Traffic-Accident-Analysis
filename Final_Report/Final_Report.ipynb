{
 "cells": [
  {
   "cell_type": "markdown",
   "metadata": {},
   "source": [
    "# US Traffic Accidents - Final Report"
   ]
  },
  {
   "cell_type": "code",
   "execution_count": 1,
   "metadata": {},
   "outputs": [
    {
     "data": {
      "text/html": [
       "<script>\n",
       "code_show=true; \n",
       "function code_toggle() {\n",
       " if (code_show){\n",
       " $('div.input').hide();\n",
       " } else {\n",
       " $('div.input').show();\n",
       " }\n",
       " code_show = !code_show\n",
       "} \n",
       "$( document ).ready(code_toggle);\n",
       "</script>\n",
       "<form action=\"javascript:code_toggle()\"><input type=\"submit\" value=\"Click here to toggle on/off the raw code.\"></form>"
      ],
      "text/plain": [
       "<IPython.core.display.HTML object>"
      ]
     },
     "execution_count": 1,
     "metadata": {},
     "output_type": "execute_result"
    }
   ],
   "source": [
    "from IPython.display import HTML\n",
    "\n",
    "HTML('''<script>\n",
    "code_show=true; \n",
    "function code_toggle() {\n",
    " if (code_show){\n",
    " $('div.input').hide();\n",
    " } else {\n",
    " $('div.input').show();\n",
    " }\n",
    " code_show = !code_show\n",
    "} \n",
    "$( document ).ready(code_toggle);\n",
    "</script>\n",
    "<form action=\"javascript:code_toggle()\"><input type=\"submit\" value=\"Click here to toggle on/off the raw code.\"></form>''')"
   ]
  },
  {
   "cell_type": "code",
   "execution_count": null,
   "metadata": {},
   "outputs": [],
   "source": [
    "# ###Set notebook preferences##\n",
    "# #Read in some libraries\n",
    "# import pandas as pd\n",
    "# import numpy as np\n",
    "# import matplotlib.pyplot as plt\n",
    "# import tensorflow as tf\n",
    "# from IPython.display import Image\n",
    "\n",
    "# #Set notebook preferences - pandas\n",
    "# pd.set_option(\"display.max_columns\", 101)\n",
    "\n",
    "# #Set path to modeling folder\n",
    "# model_viz = r'C:\\Users\\kishe\\Documents\\Data Science\\Projects\\Python Projects\\In Progress\\Airbnb - San Francisco Listings Analysis\\Visualizations\\Modeling'\n",
    "\n",
    "# #Set path to data\n",
    "# path = r'C:\\Users\\kishe\\Documents\\Data Science\\Projects\\Python Projects\\In Progress\\Spain Hourly Energy Demand and Weather\\Data\\02_Cleaned_Data'"
   ]
  },
  {
   "cell_type": "markdown",
   "metadata": {},
   "source": [
    "# 1. Introduction\n",
    "\n",
    "California is known for beautiful scenery, w\n"
   ]
  },
  {
   "cell_type": "markdown",
   "metadata": {},
   "source": [
    "## 1.1 Objectives\n",
    "\n",
    "Forecast predictions for the rest of the year\n",
    "isolate accident hotspot locations\n",
    "casualty analysis and extracting cause and effect rules to predict accidents // studying the impact of precipitation or other environmental stimuli on accident occurrence."
   ]
  },
  {
   "cell_type": "markdown",
   "metadata": {},
   "source": [
    "## 1.2 Impact"
   ]
  },
  {
   "cell_type": "markdown",
   "metadata": {},
   "source": [
    "# 2. Table of Contents"
   ]
  },
  {
   "cell_type": "markdown",
   "metadata": {},
   "source": [
    "1. **Introduction**<br>\n",
    "   1.1 Objectives<br>\n",
    "   1.2 Impact<br>\n",
    "2. **Table of Contents**<br>\n",
    "3. **Data Overview**<br>\n",
    "    3.1 About the Data<br>\n",
    "    3.2 Preview Data<br>\n",
    "    3.3 Data Overview - Metrics<br>\n",
    "4. **Impact of COVID 19 on Gross Rental Revenue**<br>\n",
    "    4.1 Methodology<br>\n",
    "    4.2 Results<br>\n",
    "    4.3 Decision Recommendations<br>\n",
    "5. **Airbnb Rental Prices in San Francisco**<br>\n",
    "    5.1 Methodology<br>\n",
    "    5.2 Base Model Decision Tree Model<br>\n",
    "    5.3 Tuned XGBRegressor Model<br>\n",
    "    5.4 Model Discussion and New Host Recommendations<br>\n",
    "6. **Conclusion**<br>\n",
    "    6.1 Takeaways<br>\n",
    "    6.2 Future Research<br>"
   ]
  },
  {
   "cell_type": "code",
   "execution_count": null,
   "metadata": {},
   "outputs": [],
   "source": []
  }
 ],
 "metadata": {
  "kernelspec": {
   "display_name": "traffic_analysis",
   "language": "python",
   "name": "traffic_analysis"
  },
  "language_info": {
   "codemirror_mode": {
    "name": "ipython",
    "version": 3
   },
   "file_extension": ".py",
   "mimetype": "text/x-python",
   "name": "python",
   "nbconvert_exporter": "python",
   "pygments_lexer": "ipython3",
   "version": "3.7.7"
  }
 },
 "nbformat": 4,
 "nbformat_minor": 4
}
